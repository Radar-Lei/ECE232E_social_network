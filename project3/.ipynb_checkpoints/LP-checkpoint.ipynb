{
 "cells": [
  {
   "cell_type": "code",
   "execution_count": 1,
   "metadata": {},
   "outputs": [],
   "source": [
    "# Library\n",
    "import numpy as np\n",
    "import matplotlib.pyplot as plt\n",
    "import pandas as pd\n",
    "from cvxopt import solvers, matrix"
   ]
  },
  {
   "cell_type": "code",
   "execution_count": 3,
   "metadata": {},
   "outputs": [],
   "source": [
    "def print_optimal_policy_with_arrows(optimal_policy_function):\n",
    "    optimal_policy_symbols = np.chararray((10, 10), unicode=True)\n",
    "    arrow_symbols = ['⇧','⇩','⇦','⇨']\n",
    "#     arrow_symbols = ['↑ ','↓ ','←','→ ']\n",
    "#     arrow_symbols = ['\\21E1','\\u21E3','\\u21E0','\\u21E2']\n",
    "    for i in range(4):\n",
    "        optimal_policy_symbols[optimal_policy_function == i] = arrow_symbols[i]\n",
    "    print(pd.DataFrame(optimal_policy_symbols))"
   ]
  },
  {
   "cell_type": "code",
   "execution_count": 4,
   "metadata": {},
   "outputs": [
    {
     "data": {
      "text/plain": [
       "Text(0.5,1,'reward_function_2')"
      ]
     },
     "execution_count": 4,
     "metadata": {},
     "output_type": "execute_result"
    },
    {
     "data": {
      "image/png": "[encoded data removed]",
      "text/plain": [
       "<matplotlib.figure.Figure at 0x11519ff28>"
      ]
     },
     "metadata": {},
     "output_type": "display_data"
    }
   ],
   "source": [
    "reward_function_1 = np.zeros((10,10))\n",
    "reward_function_1[-1,-1] = 1\n",
    "\n",
    "\n",
    "reward_function_2 = reward_function_1.copy()\n",
    "locs = [(1,4),(2,4),(3,4),(4,4),(5,4),\n",
    "           (6,4),(1,5),(1,6),(2,6),(3,6),\n",
    "           (3,7),(3,8),(4,8),(5,8),(6,8),\n",
    "           (7,8),(7,6),(7,7),(8,6)]\n",
    "\n",
    "reward_function_2[-1,-1] = 10\n",
    "for loc in locs:\n",
    "    reward_function_2[loc] = -100\n",
    "    \n",
    "fig, ax = plt.subplots(1,2,figsize=(12,6))\n",
    "ax[0].set_ylim(bottom=10, top=0)\n",
    "ax[0].pcolor(reward_function_1)\n",
    "ax[0].set_title('reward_function_1')\n",
    "ax[1].set_ylim(bottom=10, top=0)\n",
    "ax[1].pcolor(reward_function_2)\n",
    "ax[1].set_title('reward_function_2')"
   ]
  },
  {
   "cell_type": "code",
   "execution_count": 8,
   "metadata": {},
   "outputs": [
    {
     "name": "stdout",
     "output_type": "stream",
     "text": [
      "   0  1  2  3  4  5  6  7  8  9\n",
      "0  ⇨  ⇨  ⇨  ⇨  ⇨  ⇨  ⇨  ⇨  ⇩  ⇩\n",
      "1  ⇩  ⇩  ⇨  ⇨  ⇨  ⇨  ⇩  ⇩  ⇩  ⇩\n",
      "2  ⇩  ⇩  ⇨  ⇨  ⇨  ⇩  ⇩  ⇩  ⇩  ⇩\n",
      "3  ⇩  ⇩  ⇩  ⇩  ⇩  ⇩  ⇩  ⇩  ⇩  ⇩\n",
      "4  ⇩  ⇩  ⇩  ⇨  ⇨  ⇩  ⇩  ⇩  ⇩  ⇩\n",
      "5  ⇩  ⇩  ⇨  ⇨  ⇨  ⇩  ⇩  ⇩  ⇩  ⇩\n",
      "6  ⇩  ⇨  ⇨  ⇨  ⇨  ⇨  ⇩  ⇩  ⇩  ⇩\n",
      "7  ⇩  ⇨  ⇨  ⇨  ⇨  ⇨  ⇨  ⇩  ⇩  ⇩\n",
      "8  ⇨  ⇨  ⇨  ⇨  ⇨  ⇨  ⇨  ⇨  ⇩  ⇩\n",
      "9  ⇨  ⇨  ⇨  ⇨  ⇨  ⇨  ⇨  ⇨  ⇨  ⇩\n",
      "   0  1  2  3  4  5  6  7  8  9\n",
      "0  ⇩  ⇩  ⇩  ⇦  ⇦  ⇨  ⇨  ⇨  ⇨  ⇩\n",
      "1  ⇩  ⇩  ⇩  ⇦  ⇦  ⇧  ⇨  ⇨  ⇨  ⇩\n",
      "2  ⇩  ⇩  ⇩  ⇦  ⇦  ⇩  ⇨  ⇨  ⇨  ⇩\n",
      "3  ⇩  ⇩  ⇩  ⇦  ⇦  ⇩  ⇩  ⇧  ⇨  ⇩\n",
      "4  ⇩  ⇩  ⇩  ⇦  ⇦  ⇩  ⇩  ⇩  ⇨  ⇩\n",
      "5  ⇩  ⇩  ⇩  ⇦  ⇦  ⇩  ⇩  ⇦  ⇨  ⇩\n",
      "6  ⇩  ⇩  ⇩  ⇩  ⇩  ⇩  ⇦  ⇦  ⇨  ⇩\n",
      "7  ⇩  ⇩  ⇩  ⇩  ⇩  ⇩  ⇦  ⇩  ⇩  ⇩\n",
      "8  ⇨  ⇨  ⇨  ⇩  ⇩  ⇩  ⇩  ⇩  ⇩  ⇩\n",
      "9  ⇨  ⇨  ⇨  ⇨  ⇨  ⇨  ⇨  ⇨  ⇨  ⇩\n"
     ]
    }
   ],
   "source": [
    "optimal_policy_function_1 = np.array([[3, 3, 3, 3, 3, 3, 3, 3, 1, 1],\n",
    "                                   [1, 1, 3, 3, 3, 3, 1, 1, 1, 1],\n",
    "                                   [1, 1, 3, 3, 3, 1, 1, 1, 1, 1],\n",
    "                                   [1, 1, 1, 1, 1, 1, 1, 1, 1, 1],\n",
    "                                   [1, 1, 1, 3, 3, 1, 1, 1, 1, 1],\n",
    "                                   [1, 1, 3, 3, 3, 1, 1, 1, 1, 1],\n",
    "                                   [1, 3, 3, 3, 3, 3, 1, 1, 1, 1],\n",
    "                                   [1, 3, 3, 3, 3, 3, 3, 1, 1, 1],\n",
    "                                   [3, 3, 3, 3, 3, 3, 3, 3, 1, 1],\n",
    "                                   [3, 3, 3, 3, 3, 3, 3, 3, 3, 1]])\n",
    "\n",
    "optimal_policy_function_2 = np.array([[1, 1, 1, 2, 2, 3, 3, 3, 3, 1],\n",
    "                                   [1, 1, 1, 2, 2, 0, 3, 3, 3, 1],\n",
    "                                   [1, 1, 1, 2, 2, 1, 3, 3, 3, 1],\n",
    "                                   [1, 1, 1, 2, 2, 1, 1, 0, 3, 1],\n",
    "                                   [1, 1, 1, 2, 2, 1, 1, 1, 3, 1],\n",
    "                                   [1, 1, 1, 2, 2, 1, 1, 2, 3, 1],\n",
    "                                   [1, 1, 1, 1, 1, 1, 2, 2, 3, 1],\n",
    "                                   [1, 1, 1, 1, 1, 1, 2, 1, 1, 1],\n",
    "                                   [3, 3, 3, 1, 1, 1, 1, 1, 1, 1],\n",
    "                                   [3, 3, 3, 3, 3, 3, 3, 3, 3, 1]])\n",
    "\n",
    "print_optimal_policy_with_arrows(optimal_policy_function_1)\n",
    "print_optimal_policy_with_arrows(optimal_policy_function_2)"
   ]
  },
  {
   "cell_type": "code",
   "execution_count": 16,
   "metadata": {},
   "outputs": [],
   "source": [
    "def get_prob(s,w,policy_act):\n",
    "    actions = [-10,+10,-1,+1,0]# action = [up,down,left,right,self]\n",
    "    p_temp = np.zeros(5)# action = [up,down,left,right，self]\n",
    "\n",
    "    # preset the random\n",
    "    p_temp[2] = 0 if s%10 == 0 else w/4 # left\n",
    "    p_temp[3] = 0 if (s+1)%10 == 0 else w/4 # right\n",
    "    p_temp[0] = 0 if s-10 <= 0 else w/4 #up\n",
    "    p_temp[1] = 0 if s+10 >= 100 else w/4 #bot\n",
    "    p_temp[-1] = w-sum(p_temp[0:4]) #self\n",
    "    \n",
    "    p = p_temp.copy()\n",
    "    if p_temp[policy_act] != 0:\n",
    "        p[policy_act] += 1-w # move in one direction\n",
    "    else:\n",
    "        p[-1] += 1-w # return to self\n",
    "    transition_row = np.zeros((1,100))\n",
    "    for j in enumerate(actions):\n",
    "        if p[j] != 0 :#and s+a in range(100):\n",
    "            transition_row[s+a] = p[j]\n",
    "    return transition_row\n",
    "\n",
    "def get_transition_matrix(policy):\n",
    "    transition_matrix = np.zeros((100,100))\n",
    "    policy = policy.reshape((1,100))[0]\n",
    "    for idx,policy_act in enumerate(policy):\n",
    "        transition_matrix[idx] = get_prob(idx, 0.1,policy_act)\n",
    "    return transition_matrix\n",
    "    "
   ]
  },
  {
   "cell_type": "code",
   "execution_count": 17,
   "metadata": {},
   "outputs": [],
   "source": [
    "policy = optimal_policy_function_2.reshape((1,100))"
   ]
  },
  {
   "cell_type": "code",
   "execution_count": 18,
   "metadata": {},
   "outputs": [
    {
     "data": {
      "text/plain": [
       "array([[1, 1, 1, 2, 2, 3, 3, 3, 3, 1, 1, 1, 1, 2, 2, 0, 3, 3, 3, 1, 1, 1,\n",
       "        1, 2, 2, 1, 3, 3, 3, 1, 1, 1, 1, 2, 2, 1, 1, 0, 3, 1, 1, 1, 1, 2,\n",
       "        2, 1, 1, 1, 3, 1, 1, 1, 1, 2, 2, 1, 1, 2, 3, 1, 1, 1, 1, 1, 1, 1,\n",
       "        2, 2, 3, 1, 1, 1, 1, 1, 1, 1, 2, 1, 1, 1, 3, 3, 3, 1, 1, 1, 1, 1,\n",
       "        1, 1, 3, 3, 3, 3, 3, 3, 3, 3, 3, 1]])"
      ]
     },
     "execution_count": 18,
     "metadata": {},
     "output_type": "execute_result"
    }
   ],
   "source": [
    "policy"
   ]
  },
  {
   "cell_type": "code",
   "execution_count": 19,
   "metadata": {},
   "outputs": [
    {
     "ename": "NameError",
     "evalue": "name 'i' is not defined",
     "output_type": "error",
     "traceback": [
      "\u001b[0;31m---------------------------------------------------------------------------\u001b[0m",
      "\u001b[0;31mNameError\u001b[0m                                 Traceback (most recent call last)",
      "\u001b[0;32m<ipython-input-19-b4fa9bb4a8ba>\u001b[0m in \u001b[0;36m<module>\u001b[0;34m()\u001b[0m\n\u001b[1;32m      1\u001b[0m \u001b[0;31m# transition matrix\u001b[0m\u001b[0;34m\u001b[0m\u001b[0;34m\u001b[0m\u001b[0m\n\u001b[0;32m----> 2\u001b[0;31m \u001b[0mP\u001b[0m \u001b[0;34m=\u001b[0m \u001b[0mget_transition_matrix\u001b[0m\u001b[0;34m(\u001b[0m\u001b[0moptimal_policy_function_2\u001b[0m\u001b[0;34m)\u001b[0m\u001b[0;34m\u001b[0m\u001b[0m\n\u001b[0m\u001b[1;32m      3\u001b[0m \u001b[0;34m\u001b[0m\u001b[0m\n\u001b[1;32m      4\u001b[0m \u001b[0;31m# D\u001b[0m\u001b[0;34m\u001b[0m\u001b[0;34m\u001b[0m\u001b[0m\n\u001b[1;32m      5\u001b[0m \u001b[0;34m\u001b[0m\u001b[0m\n",
      "\u001b[0;32m<ipython-input-16-e594fa90de0c>\u001b[0m in \u001b[0;36mget_transition_matrix\u001b[0;34m(policy)\u001b[0m\n\u001b[1;32m     25\u001b[0m     \u001b[0mpolicy\u001b[0m \u001b[0;34m=\u001b[0m \u001b[0mpolicy\u001b[0m\u001b[0;34m.\u001b[0m\u001b[0mreshape\u001b[0m\u001b[0;34m(\u001b[0m\u001b[0;34m(\u001b[0m\u001b[0;36m1\u001b[0m\u001b[0;34m,\u001b[0m\u001b[0;36m100\u001b[0m\u001b[0;34m)\u001b[0m\u001b[0;34m)\u001b[0m\u001b[0;34m[\u001b[0m\u001b[0;36m0\u001b[0m\u001b[0;34m]\u001b[0m\u001b[0;34m\u001b[0m\u001b[0m\n\u001b[1;32m     26\u001b[0m     \u001b[0;32mfor\u001b[0m \u001b[0midx\u001b[0m\u001b[0;34m,\u001b[0m\u001b[0mpolicy_act\u001b[0m \u001b[0;32min\u001b[0m \u001b[0menumerate\u001b[0m\u001b[0;34m(\u001b[0m\u001b[0mpolicy\u001b[0m\u001b[0;34m)\u001b[0m\u001b[0;34m:\u001b[0m\u001b[0;34m\u001b[0m\u001b[0m\n\u001b[0;32m---> 27\u001b[0;31m         \u001b[0mtransition_matrix\u001b[0m\u001b[0;34m[\u001b[0m\u001b[0midx\u001b[0m\u001b[0;34m]\u001b[0m \u001b[0;34m=\u001b[0m \u001b[0mget_prob\u001b[0m\u001b[0;34m(\u001b[0m\u001b[0midx\u001b[0m\u001b[0;34m,\u001b[0m \u001b[0;36m0.1\u001b[0m\u001b[0;34m,\u001b[0m\u001b[0mpolicy_act\u001b[0m\u001b[0;34m)\u001b[0m\u001b[0;34m\u001b[0m\u001b[0m\n\u001b[0m\u001b[1;32m     28\u001b[0m     \u001b[0;32mreturn\u001b[0m \u001b[0mtransition_matrix\u001b[0m\u001b[0;34m\u001b[0m\u001b[0m\n\u001b[1;32m     29\u001b[0m \u001b[0;34m\u001b[0m\u001b[0m\n",
      "\u001b[0;32m<ipython-input-16-e594fa90de0c>\u001b[0m in \u001b[0;36mget_prob\u001b[0;34m(s, w, policy_act)\u001b[0m\n\u001b[1;32m     12\u001b[0m     \u001b[0mp\u001b[0m \u001b[0;34m=\u001b[0m \u001b[0mp_temp\u001b[0m\u001b[0;34m.\u001b[0m\u001b[0mcopy\u001b[0m\u001b[0;34m(\u001b[0m\u001b[0;34m)\u001b[0m\u001b[0;34m\u001b[0m\u001b[0m\n\u001b[1;32m     13\u001b[0m     \u001b[0;32mif\u001b[0m \u001b[0mp_temp\u001b[0m\u001b[0;34m[\u001b[0m\u001b[0mpolicy_act\u001b[0m\u001b[0;34m]\u001b[0m \u001b[0;34m!=\u001b[0m \u001b[0;36m0\u001b[0m\u001b[0;34m:\u001b[0m\u001b[0;34m\u001b[0m\u001b[0m\n\u001b[0;32m---> 14\u001b[0;31m         \u001b[0mp\u001b[0m\u001b[0;34m[\u001b[0m\u001b[0mi\u001b[0m\u001b[0;34m]\u001b[0m \u001b[0;34m+=\u001b[0m \u001b[0;36m1\u001b[0m\u001b[0;34m-\u001b[0m\u001b[0mw\u001b[0m \u001b[0;31m# move in one direction\u001b[0m\u001b[0;34m\u001b[0m\u001b[0m\n\u001b[0m\u001b[1;32m     15\u001b[0m     \u001b[0;32melse\u001b[0m\u001b[0;34m:\u001b[0m\u001b[0;34m\u001b[0m\u001b[0m\n\u001b[1;32m     16\u001b[0m         \u001b[0mp\u001b[0m\u001b[0;34m[\u001b[0m\u001b[0;34m-\u001b[0m\u001b[0;36m1\u001b[0m\u001b[0;34m]\u001b[0m \u001b[0;34m+=\u001b[0m \u001b[0;36m1\u001b[0m\u001b[0;34m-\u001b[0m\u001b[0mw\u001b[0m \u001b[0;31m# return to self\u001b[0m\u001b[0;34m\u001b[0m\u001b[0m\n",
      "\u001b[0;31mNameError\u001b[0m: name 'i' is not defined"
     ]
    }
   ],
   "source": [
    "# transition matrix\n",
    "P = get_transition_matrix(optimal_policy_function_2)\n",
    "\n",
    "# D \n",
    "\n",
    "# solve Dx<b\n",
    "\n",
    "# extact policy"
   ]
  },
  {
   "cell_type": "code",
   "execution_count": null,
   "metadata": {},
   "outputs": [],
   "source": []
  }
 ],
 "metadata": {
  "kernelspec": {
   "display_name": "Python 3",
   "language": "python",
   "name": "python3"
  },
  "language_info": {
   "codemirror_mode": {
    "name": "ipython",
    "version": 3
   },
   "file_extension": ".py",
   "mimetype": "text/x-python",
   "name": "python",
   "nbconvert_exporter": "python",
   "pygments_lexer": "ipython3",
   "version": "3.6.4"
  }
 },
 "nbformat": 4,
 "nbformat_minor": 2
}
