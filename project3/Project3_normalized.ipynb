{
 "cells": [
  {
   "cell_type": "markdown",
   "metadata": {
    "colab_type": "text",
    "id": "bBZcajs7aE3R"
   },
   "source": [
    "# Project 3"
   ]
  },
  {
   "cell_type": "code",
   "execution_count": 1,
   "metadata": {
    "colab": {
     "autoexec": {
      "startup": false,
      "wait_interval": 0
     }
    },
    "colab_type": "code",
    "id": "7OOChFphaE3T"
   },
   "outputs": [],
   "source": [
    "# Library\n",
    "import numpy as np\n",
    "import matplotlib.pyplot as plt\n",
    "import pandas as pd\n",
    "from cvxopt import solvers, matrix"
   ]
  },
  {
   "cell_type": "markdown",
   "metadata": {
    "colab_type": "text",
    "id": "oAVzGQ_KaE3W"
   },
   "source": [
    "#### Q1"
   ]
  },
  {
   "cell_type": "code",
   "execution_count": 2,
   "metadata": {
    "colab": {
     "autoexec": {
      "startup": false,
      "wait_interval": 0
     }
    },
    "colab_type": "code",
    "id": "vPqSvgl2aE3X"
   },
   "outputs": [],
   "source": [
    "def plot_heat_map(heat_array, title):\n",
    "    min_value = np.min(heat_array)\n",
    "    max_value = np.max(heat_array)\n",
    "    plt.pcolor(heat_array, cmap='hot',vmin=min_value, vmax=max_value)\n",
    "    plt.ylim(top=0, bottom=10)\n",
    "    plt.xlim(left=0, right=10)\n",
    "    plt.colorbar()\n",
    "    plt.title(title)\n",
    "    plt.show()"
   ]
  },
  {
   "cell_type": "code",
   "execution_count": 3,
   "metadata": {
    "colab": {
     "autoexec": {
      "startup": false,
      "wait_interval": 0
     }
    },
    "colab_type": "code",
    "id": "9RgyMf4vaE3Z",
    "outputId": "b3df30e2-a8ce-4389-bb45-612fdb1b2993"
   },
   "outputs": [
    {
     "data": {
      "image/png": "[encoded data removed]",
      "text/plain": [
       "<matplotlib.figure.Figure at 0x113b15dd8>"
      ]
     },
     "metadata": {},
     "output_type": "display_data"
    },
    {
     "data": {
      "image/png": "[encoded data removed]",
      "text/plain": [
       "<matplotlib.figure.Figure at 0x113b15da0>"
      ]
     },
     "metadata": {},
     "output_type": "display_data"
    }
   ],
   "source": [
    "# Reward function 1\n",
    "reward_1 = np.zeros((10, 10))\n",
    "reward_1[9, 9] = 1\n",
    "plot_heat_map(reward_1, 'Heat map of reward function 1')\n",
    "\n",
    "# Reward function 1\n",
    "reward_2 = np.array([[0, 0, 0, 0, 0, 0, 0, 0, 0, 0], \n",
    "                     [0, 0, 0, 0, -100, -100, -100, 0, 0, 0], \n",
    "                     [0, 0, 0, 0, -100, 0, -100, 0, 0, 0], \n",
    "                     [0, 0, 0, 0, -100, 0, -100, -100, -100, 0], \n",
    "                     [0, 0, 0, 0, -100, 0, 0, 0, -100, 0], \n",
    "                     [0, 0, 0, 0, -100, 0, 0, 0, -100, 0], \n",
    "                     [0, 0, 0, 0, -100, 0, 0, 0, -100, 0], \n",
    "                     [0, 0, 0, 0, 0, 0, -100, -100, -100, 0], \n",
    "                     [0, 0, 0, 0, 0, 0, -100, 0, 0, 0], \n",
    "                     [0, 0, 0, 0, 0, 0, 0, 0, 0, 10]])\n",
    "plot_heat_map(reward_2,  'Heat map of reward function 2')"
   ]
  },
  {
   "cell_type": "markdown",
   "metadata": {
    "colab_type": "text",
    "id": "gxoz_zy-aE3f"
   },
   "source": [
    "#### Q2 & Q3 & Q5"
   ]
  },
  {
   "cell_type": "code",
   "execution_count": 4,
   "metadata": {
    "colab": {
     "autoexec": {
      "startup": false,
      "wait_interval": 0
     }
    },
    "colab_type": "code",
    "id": "yQeMDBbJaE3g"
   },
   "outputs": [],
   "source": [
    "# Environment setup\n",
    "state_space = np.tile(np.arange(0, 100, 10), (10, 1)) + np.arange(0, 10, 1).reshape((10, 1))\n",
    "discount_factor = 0.8\n",
    "random_probability = 0.1\n",
    "cur_reward = reward_1\n",
    "UP = 0\n",
    "DOWN = 1\n",
    "LEFT = 2\n",
    "RIGHT = 3\n",
    "all_actions = [UP, DOWN, LEFT, RIGHT]\n"
   ]
  },
  {
   "cell_type": "code",
   "execution_count": 5,
   "metadata": {
    "colab": {
     "autoexec": {
      "startup": false,
      "wait_interval": 0
     }
    },
    "colab_type": "code",
    "id": "JrE6nwBtaE3i"
   },
   "outputs": [],
   "source": [
    "def state_to_coordinate(state, state_sets=state_space):\n",
    "    y, x = np.where(state_sets == state)\n",
    "    return (x[0], y[0])\n",
    "\n",
    "def coordinate_to_state(coordinate_x, coordinate_y, state_sets=state_space):\n",
    "    return state_sets[coordinate_y, coordinate_x]\n",
    "\n",
    "def get_valid_actions(state):\n",
    "    valid_actions = all_actions.copy()\n",
    "    x, y = state_to_coordinate(state)\n",
    "    if x == 0:\n",
    "        valid_actions.remove(LEFT)\n",
    "    elif x == 9:\n",
    "        valid_actions.remove(RIGHT)\n",
    "    if y == 0:\n",
    "        valid_actions.remove(UP)\n",
    "    elif y == 9:\n",
    "        valid_actions.remove(DOWN)\n",
    "    return valid_actions\n",
    "\n",
    "def get_next_states_probabilities(cur_state, cur_action):\n",
    "    cur_valid_actions = get_valid_actions(cur_state)\n",
    "    next_probabilities = [0] * 5 # Order UP, DOWN, LEFT, RIGHT, STAY\n",
    "    for action in cur_valid_actions: # w/4 for states inside the grid\n",
    "            next_probabilities[action] = random_probability / 4\n",
    "    \n",
    "    # Calculate the transition probabilities for an action\n",
    "    if (len(cur_valid_actions) == 4): # No boundary cases\n",
    "        next_probabilities[cur_action] += 1 - random_probability\n",
    "        next_probabilities[4] = 0 # Probability to state in the current state is 0\n",
    "    \n",
    "    else: # With probability to move out the grid\n",
    "        next_probabilities[4] = random_probability * (1 - len(cur_valid_actions) / 4)\n",
    "        if cur_action in cur_valid_actions:\n",
    "            next_probabilities[cur_action] += 1 - random_probability\n",
    "        else:\n",
    "            next_probabilities[4] += 1 - random_probability\n",
    "    \n",
    "    return next_probabilities\n",
    "\n",
    "def state_reward(state, reward_function):\n",
    "    x, y = state_to_coordinate(state)\n",
    "    return reward_function[y, x]\n",
    "\n",
    "def get_state_value_function(reward_function):\n",
    "    # Initialize\n",
    "    state_value_function = np.zeros((10, 10))\n",
    "    delta = 1 # Exit flag\n",
    "\n",
    "    while delta > 0.01:\n",
    "        delta = 0 \n",
    "        previous_state_value_function = state_value_function.copy()\n",
    "        # Loop over 100 states\n",
    "        for cur_state in range(100): \n",
    "            cur_x, cur_y = state_to_coordinate(cur_state)\n",
    "            previous_state_value = previous_state_value_function[cur_y, cur_x]\n",
    "            state_value_all_actions = [0] * 4\n",
    "\n",
    "            # Loop over all actions\n",
    "            for cur_action in all_actions:\n",
    "                transition_probabilities = get_next_states_probabilities(cur_state, cur_action) \n",
    "\n",
    "                # Sum over one action\n",
    "                for prob_idx in range(len(transition_probabilities)):\n",
    "                    prob = transition_probabilities[prob_idx]\n",
    "                    if (prob != 0): # Remove invalid case\n",
    "                        # Next state coordinate\n",
    "                        next_x = cur_x\n",
    "                        next_y = cur_y\n",
    "                        if prob_idx == 0: # Move up\n",
    "                            next_y -= 1\n",
    "                        elif prob_idx == 1: # Move down\n",
    "                            next_y += 1\n",
    "                        elif prob_idx == 2: # Move left\n",
    "                            next_x -= 1\n",
    "                        elif prob_idx == 3: # Move right\n",
    "                            next_x += 1\n",
    "                        else: # Stay in the state\n",
    "                            pass\n",
    "                        next_state = coordinate_to_state(next_x, next_y)\n",
    "                        state_value_all_actions[cur_action] += prob * (state_reward(next_state, reward_function) + discount_factor * previous_state_value_function[next_y, next_x])\n",
    "\n",
    "            cur_state_value = max(state_value_all_actions)\n",
    "            state_value_function[cur_y, cur_x] = cur_state_value\n",
    "            delta = max(delta, abs(previous_state_value - cur_state_value)) \n",
    "    return state_value_function\n",
    "\n",
    "def get_optimal_policy_function(state_value_function, reward_function):\n",
    "    # Initialize\n",
    "    optimal_policy_function = np.zeros((10, 10))\n",
    "\n",
    "    # Loop all states\n",
    "    for cur_state in range(100):  \n",
    "        cur_x, cur_y = state_to_coordinate(cur_state)\n",
    "        state_value_all_actions = [0] * 4\n",
    "\n",
    "        # Loop over all actions\n",
    "        for cur_action in all_actions:\n",
    "            transition_probabilities = get_next_states_probabilities(cur_state, cur_action) \n",
    "\n",
    "            # Sum over one action\n",
    "            for prob_idx in range(len(transition_probabilities)):\n",
    "                prob = transition_probabilities[prob_idx]\n",
    "                if (prob != 0): # Remove invalid case\n",
    "                    # Next state coordinate\n",
    "                    next_x = cur_x\n",
    "                    next_y = cur_y\n",
    "                    if prob_idx == 0: # Move up\n",
    "                        next_y -= 1\n",
    "                    elif prob_idx == 1: # Move down\n",
    "                        next_y += 1\n",
    "                    elif prob_idx == 2: # Move left\n",
    "                        next_x -= 1\n",
    "                    elif prob_idx == 3: # Move right\n",
    "                        next_x += 1\n",
    "                    else: # Stay in the state\n",
    "                        pass\n",
    "                    next_state = coordinate_to_state(next_x, next_y)\n",
    "                    state_value_all_actions[cur_action] += prob * (state_reward(next_state, reward_function) + discount_factor * state_value_function[next_y, next_x])\n",
    "        \n",
    "        #state_value_all_actions = np.around(state_value_all_actions, 3) # Round the value to 5 dicimal5\n",
    "        optimal_action = np.argmax(state_value_all_actions)\n",
    "        optimal_policy_function[cur_y, cur_x] = optimal_action\n",
    "        #print('State: ', cur_state)\n",
    "        #print(state_value_all_actions)\n",
    "    return optimal_policy_function.astype(int)\n",
    "\n",
    "def print_optimal_policy_with_arrows(optimal_policy_function):\n",
    "    optimal_policy_symbols = np.chararray((10, 10), unicode=True)\n",
    "    arrow_symbols = ['⇧','⇩','⇦','⇨']\n",
    "#     arrow_symbols = ['↑ ','↓ ','←','→ ']\n",
    "#     arrow_symbols = ['\\21E1','\\u21E3','\\u21E0','\\u21E2']\n",
    "    for i in range(4):\n",
    "        optimal_policy_symbols[optimal_policy_function == i] = arrow_symbols[i]\n",
    "    print(pd.DataFrame(optimal_policy_symbols))\n"
   ]
  },
  {
   "cell_type": "code",
   "execution_count": 6,
   "metadata": {
    "colab": {
     "autoexec": {
      "startup": false,
      "wait_interval": 0
     }
    },
    "colab_type": "code",
    "id": "5xdJejAlaE3l",
    "outputId": "eb58c4ae-f408-4f99-974d-0466a8999111",
    "scrolled": false
   },
   "outputs": [
    {
     "name": "stdout",
     "output_type": "stream",
     "text": [
      "Optimal value of states: \n",
      "       0      1      2      3      4      5      6      7      8      9\n",
      "0  0.044  0.065  0.091  0.125  0.168  0.223  0.292  0.380  0.491  0.610\n",
      "1  0.065  0.088  0.122  0.165  0.219  0.289  0.378  0.491  0.633  0.788\n",
      "2  0.091  0.122  0.165  0.219  0.289  0.378  0.491  0.636  0.818  1.019\n",
      "3  0.125  0.165  0.219  0.289  0.378  0.491  0.636  0.820  1.052  1.315\n",
      "4  0.168  0.219  0.289  0.378  0.491  0.636  0.820  1.054  1.352  1.695\n",
      "5  0.223  0.289  0.378  0.491  0.636  0.820  1.054  1.353  1.733  2.182\n",
      "6  0.292  0.378  0.491  0.636  0.820  1.054  1.354  1.735  2.220  2.807\n",
      "7  0.380  0.491  0.636  0.820  1.054  1.353  1.735  2.220  2.839  3.608\n",
      "8  0.491  0.633  0.818  1.052  1.352  1.733  2.220  2.839  3.629  4.635\n",
      "9  0.610  0.788  1.019  1.315  1.695  2.182  2.807  3.608  4.635  4.702\n"
     ]
    },
    {
     "data": {
      "image/png": "[encoded data removed]",
      "text/plain": [
       "<matplotlib.figure.Figure at 0x10dbf0d30>"
      ]
     },
     "metadata": {},
     "output_type": "display_data"
    },
    {
     "name": "stdout",
     "output_type": "stream",
     "text": [
      "Optimal policy using arrows: \n",
      "   0  1  2  3  4  5  6  7  8  9\n",
      "0  ⇨  ⇨  ⇨  ⇨  ⇨  ⇨  ⇨  ⇨  ⇩  ⇩\n",
      "1  ⇩  ⇩  ⇨  ⇨  ⇨  ⇨  ⇩  ⇩  ⇩  ⇩\n",
      "2  ⇩  ⇩  ⇨  ⇨  ⇨  ⇩  ⇩  ⇩  ⇩  ⇩\n",
      "3  ⇩  ⇩  ⇩  ⇩  ⇩  ⇩  ⇩  ⇩  ⇩  ⇩\n",
      "4  ⇩  ⇩  ⇩  ⇨  ⇨  ⇩  ⇩  ⇩  ⇩  ⇩\n",
      "5  ⇩  ⇩  ⇨  ⇨  ⇨  ⇩  ⇩  ⇩  ⇩  ⇩\n",
      "6  ⇩  ⇨  ⇨  ⇨  ⇨  ⇨  ⇩  ⇩  ⇩  ⇩\n",
      "7  ⇩  ⇨  ⇨  ⇨  ⇨  ⇨  ⇨  ⇩  ⇩  ⇩\n",
      "8  ⇨  ⇨  ⇨  ⇨  ⇨  ⇨  ⇨  ⇨  ⇩  ⇩\n",
      "9  ⇨  ⇨  ⇨  ⇨  ⇨  ⇨  ⇨  ⇨  ⇨  ⇩\n"
     ]
    }
   ],
   "source": [
    "state_value_function_1 = get_state_value_function(reward_1)\n",
    "print('Optimal value of states: ')\n",
    "pd.set_option('precision', 3)\n",
    "print(pd.DataFrame(state_value_function_1))\n",
    "plot_heat_map(state_value_function_1, 'Heat map of state values using reward function 1')\n",
    "optimal_policy_function_1 = get_optimal_policy_function(state_value_function_1, reward_1)\n",
    "print('Optimal policy using arrows: ')\n",
    "print_optimal_policy_with_arrows(optimal_policy_function_1)"
   ]
  },
  {
   "cell_type": "markdown",
   "metadata": {
    "colab_type": "text",
    "id": "3ej9cCZwaE3o"
   },
   "source": [
    "#### Q6 & Q7 & Q9"
   ]
  },
  {
   "cell_type": "code",
   "execution_count": 7,
   "metadata": {
    "colab": {
     "autoexec": {
      "startup": false,
      "wait_interval": 0
     }
    },
    "colab_type": "code",
    "id": "7MJ_xnQUaE3p",
    "outputId": "d3610969-2b74-4b7e-bd62-4b6e77523589"
   },
   "outputs": [
    {
     "name": "stdout",
     "output_type": "stream",
     "text": [
      "Optimal value of states: \n",
      "       0      1      2       3       4       5       6       7       8       9\n",
      "0  0.647  0.791  0.821   0.525  -2.386  -4.237  -1.923   1.128   1.591   2.035\n",
      "1  0.828  1.018  1.062  -1.879  -6.755  -8.684  -6.373  -1.298   1.925   2.607\n",
      "2  1.061  1.313  1.446  -1.635  -6.758 -13.917  -9.653  -5.515  -0.135   3.355\n",
      "3  1.358  1.689  1.944  -1.243  -6.339  -7.983  -7.947  -9.434  -1.918   4.387\n",
      "4  1.734  2.168  2.586  -0.736  -5.847  -3.258  -3.241  -7.434   1.715   9.160\n",
      "5  2.211  2.778  3.413  -0.038  -5.114  -0.553  -0.488  -2.984   6.583  15.354\n",
      "6  2.816  3.553  4.479   3.024   2.480   2.880  -0.466  -4.911  12.688  23.296\n",
      "7  3.584  4.539  5.793   7.288   6.719   7.241   0.931  12.366  21.159  33.483\n",
      "8  4.558  5.795  7.397   9.439  12.008  12.889  17.097  23.014  33.778  46.529\n",
      "9  5.727  7.316  9.388  12.045  15.452  19.824  25.498  36.158  46.583  47.311\n"
     ]
    },
    {
     "data": {
      "image/png": "[encoded data removed]",
      "text/plain": [
       "<matplotlib.figure.Figure at 0x11cb6d6a0>"
      ]
     },
     "metadata": {},
     "output_type": "display_data"
    },
    {
     "name": "stdout",
     "output_type": "stream",
     "text": [
      "Optimal policy using arrows: \n",
      "   0  1  2  3  4  5  6  7  8  9\n",
      "0  ⇩  ⇩  ⇩  ⇦  ⇦  ⇨  ⇨  ⇨  ⇨  ⇩\n",
      "1  ⇩  ⇩  ⇩  ⇦  ⇦  ⇧  ⇨  ⇨  ⇨  ⇩\n",
      "2  ⇩  ⇩  ⇩  ⇦  ⇦  ⇩  ⇨  ⇨  ⇨  ⇩\n",
      "3  ⇩  ⇩  ⇩  ⇦  ⇦  ⇩  ⇩  ⇧  ⇨  ⇩\n",
      "4  ⇩  ⇩  ⇩  ⇦  ⇦  ⇩  ⇩  ⇩  ⇨  ⇩\n",
      "5  ⇩  ⇩  ⇩  ⇦  ⇦  ⇩  ⇩  ⇦  ⇨  ⇩\n",
      "6  ⇩  ⇩  ⇩  ⇩  ⇩  ⇩  ⇦  ⇦  ⇨  ⇩\n",
      "7  ⇩  ⇩  ⇩  ⇩  ⇩  ⇩  ⇦  ⇩  ⇩  ⇩\n",
      "8  ⇨  ⇨  ⇨  ⇩  ⇩  ⇩  ⇩  ⇩  ⇩  ⇩\n",
      "9  ⇨  ⇨  ⇨  ⇨  ⇨  ⇨  ⇨  ⇨  ⇨  ⇩\n"
     ]
    }
   ],
   "source": [
    "state_value_function_2 = get_state_value_function(reward_2)\n",
    "print('Optimal value of states: ')\n",
    "pd.set_option('precision', 3)\n",
    "print(pd.DataFrame(state_value_function_2))\n",
    "plot_heat_map(state_value_function_2, 'Heat map of state values using reward function 2')\n",
    "optimal_policy_function_2 = get_optimal_policy_function(state_value_function_2, reward_2)\n",
    "print('Optimal policy using arrows: ')\n",
    "print_optimal_policy_with_arrows(optimal_policy_function_2)"
   ]
  },
  {
   "cell_type": "markdown",
   "metadata": {
    "colab_type": "text",
    "id": "cbIhVXg1aE3r"
   },
   "source": [
    "#### Q11 & Q12 & Q13 & Q14 & Q16"
   ]
  },
  {
   "cell_type": "code",
   "execution_count": 8,
   "metadata": {
    "colab": {
     "autoexec": {
      "startup": false,
      "wait_interval": 0
     }
    },
    "colab_type": "code",
    "id": "R9tGNAaraE3s"
   },
   "outputs": [],
   "source": [
    "def get_neighbor_states(state):\n",
    "    x, y = state_to_coordinate(state)\n",
    "    valid_actions = get_valid_actions(state)\n",
    "    neighbor_states = [-1] * 5 # -1 for out the grid\n",
    "    neighbor_states[4] = state # Original state\n",
    "    for action in valid_actions:\n",
    "        neighbor_x = x\n",
    "        neighbor_y = y\n",
    "        if action == 0: # Move up\n",
    "            neighbor_y -= 1\n",
    "        elif action == 1: # Move down\n",
    "            neighbor_y += 1\n",
    "        elif action == 2: # Move left\n",
    "            neighbor_x -= 1\n",
    "        else: # Move right\n",
    "            neighbor_x += 1\n",
    "        neighbor_states[action] = coordinate_to_state(neighbor_x, neighbor_y)\n",
    "    return neighbor_states\n",
    "\n",
    "def get_transition_matrix(policy):\n",
    "    transition_matrix = np.zeros((100, 100))\n",
    "    for cur_state in range(100):\n",
    "        x, y = state_to_coordinate(cur_state)\n",
    "        neighbor_states = get_neighbor_states(cur_state)\n",
    "        cur_action = policy[y, x]\n",
    "        neighbor_states_probabilities = get_next_states_probabilities(cur_state, cur_action)\n",
    "        for i in range(len(neighbor_states)):\n",
    "            if neighbor_states_probabilities[i] != 0:\n",
    "                transition_matrix[cur_state][neighbor_states[i]] = neighbor_states_probabilities[i]\n",
    "    return transition_matrix\n",
    "\n",
    "def get_transition_matrix_row(state, action):\n",
    "    transition_matrix_row =  np.zeros((1, 100))\n",
    "    x, y = state_to_coordinate(state)\n",
    "    neighbor_states = get_neighbor_states(state)\n",
    "    neighbor_states_probabilities = get_next_states_probabilities(state, action)\n",
    "    for i in range(len(neighbor_states)):\n",
    "        if neighbor_states_probabilities[i] != 0:\n",
    "            transition_matrix_row[0][neighbor_states[i]] = neighbor_states_probabilities[i]\n",
    "    return transition_matrix_row\n",
    "\n",
    "def get_accuracy(IRL_policy, true_policy):\n",
    "    return np.sum(IRL_policy == true_policy) / 100"
   ]
  },
  {
   "cell_type": "code",
   "execution_count": 13,
   "metadata": {
    "colab": {
     "autoexec": {
      "startup": false,
      "wait_interval": 0
     }
    },
    "colab_type": "code",
    "id": "XRE8QbpUaE3y"
   },
   "outputs": [],
   "source": [
    "%%capture\n",
    "\n",
    "cur_reward = reward_1\n",
    "cur_optimal_policy = optimal_policy_function_1\n",
    "\n",
    "transition_matrix = get_transition_matrix(cur_optimal_policy)\n",
    "I_minus_gamma_Pa_inverse = np.linalg.inv(np.identity(100) - discount_factor * transition_matrix)\n",
    "Rmax = np.amax(np.abs(cur_reward))\n",
    "\n",
    "# Construct D matrix\n",
    "all_difference_dot_inverse = list()\n",
    "for state in range(100):\n",
    "    x, y = state_to_coordinate(state)\n",
    "    optimal_action = cur_optimal_policy[y, x]\n",
    "    for action in all_actions:\n",
    "        if (action != optimal_action):\n",
    "            difference = (-1) * (get_transition_matrix_row(state, optimal_action) - get_transition_matrix_row(state, action))\n",
    "            transition_matrix = get_transition_matrix((np.ones((10,10))*optimal_action).astype(int))\n",
    "            I_minus_gamma_Pa_inverse = np.linalg.inv(np.identity(100) - discount_factor * transition_matrix)\n",
    "            all_difference_dot_inverse.append(difference.dot(I_minus_gamma_Pa_inverse))\n",
    "\n",
    "block_1 = np.concatenate(all_difference_dot_inverse)\n",
    "\n",
    "part_1 = np.concatenate((block_1, np.repeat(np.identity(100), [3] * 100, axis=0), np.zeros((300, 100))), axis=1)\n",
    "part_2 = np.concatenate((block_1, np.zeros((300, 200))), axis=1)\n",
    "part_3 = np.concatenate((-np.identity(100), np.zeros((100, 100)), -np.identity(100)), axis=1)\n",
    "part_4 = np.concatenate((np.identity(100), np.zeros((100, 100)), -np.identity(100)), axis=1)\n",
    "part_5 = np.concatenate((-np.identity(100), np.zeros((100, 200))), axis=1)\n",
    "part_6 = np.concatenate((np.identity(100), np.zeros((100, 200))), axis=1)\n",
    "\n",
    "# D matrix\n",
    "D = np.concatenate((part_1, part_2, part_3, part_4, part_5, part_6))\n",
    "G = matrix(D)\n",
    "h = matrix(np.concatenate((np.zeros(800), Rmax * np.ones(200))))\n",
    "\n",
    "# All accuracies\n",
    "all_acc = list()\n",
    "IRL_best_penalty = 0\n",
    "IRL_best_reward = 0\n",
    "IRL_optimal_state_values = 0\n",
    "IRL_optimal_policy = 0\n",
    "\n",
    "# Solve LP with muptiple penalty factors\n",
    "for penalty_factor in np.arange(0, 5.01, 0.01):\n",
    "    c = matrix(-np.concatenate((np.zeros(100), np.ones(100), np.ones(100) * (-penalty_factor))))\n",
    "    sol = solvers.lp(c, G, h)\n",
    "    IRL_reward = np.array(sol['x'][0:100]).reshape(10, 10).T\n",
    "    IRL_reward = (IRL_reward - np.amin(IRL_reward)) / (np.amax(IRL_reward) - np.amin(IRL_reward))\n",
    "    IRL_state_values = get_state_value_function(IRL_reward)\n",
    "    IRL_policy = get_optimal_policy_function(IRL_state_values, IRL_reward)\n",
    "    accuracy = get_accuracy(IRL_policy, cur_optimal_policy)\n",
    "    # Store the best results\n",
    "    if (len(all_acc) == 0 or accuracy > max(all_acc)):\n",
    "        IRL_best_penalty = penalty_factor\n",
    "        IRL_best_reward = IRL_reward\n",
    "        IRL_optimal_state_values = IRL_state_values\n",
    "        IRL_optimal_policy = IRL_policy\n",
    "    all_acc.append(accuracy)"
   ]
  },
  {
   "cell_type": "code",
   "execution_count": 14,
   "metadata": {
    "colab": {
     "autoexec": {
      "startup": false,
      "wait_interval": 0
     }
    },
    "colab_type": "code",
    "id": "7CyRNScOaE30",
    "outputId": "74ea51bd-a209-4178-aadf-cf5aee5c616d"
   },
   "outputs": [
    {
     "data": {
      "image/png": "[encoded data removed]",
      "text/plain": [
       "<matplotlib.figure.Figure at 0x120a56ba8>"
      ]
     },
     "metadata": {},
     "output_type": "display_data"
    },
    {
     "name": "stdout",
     "output_type": "stream",
     "text": [
      "Penalty factor with best accuracy:  4.92\n",
      "Corresponding accuracy:  0.78\n"
     ]
    },
    {
     "data": {
      "image/png": "[encoded data removed]",
      "text/plain": [
       "<matplotlib.figure.Figure at 0x120a5c710>"
      ]
     },
     "metadata": {},
     "output_type": "display_data"
    },
    {
     "data": {
      "image/png": "[encoded data removed]",
      "text/plain": [
       "<matplotlib.figure.Figure at 0x120cccf60>"
      ]
     },
     "metadata": {},
     "output_type": "display_data"
    },
    {
     "data": {
      "image/png": "[encoded data removed]",
      "text/plain": [
       "<matplotlib.figure.Figure at 0x120b39e10>"
      ]
     },
     "metadata": {},
     "output_type": "display_data"
    },
    {
     "name": "stdout",
     "output_type": "stream",
     "text": [
      "   0  1  2  3  4  5  6  7  8  9\n",
      "0  ⇨  ⇨  ⇨  ⇨  ⇩  ⇩  ⇨  ⇨  ⇨  ⇩\n",
      "1  ⇩  ⇩  ⇨  ⇩  ⇩  ⇩  ⇩  ⇩  ⇩  ⇩\n",
      "2  ⇨  ⇩  ⇨  ⇩  ⇨  ⇩  ⇩  ⇩  ⇩  ⇩\n",
      "3  ⇨  ⇩  ⇩  ⇩  ⇩  ⇩  ⇩  ⇩  ⇩  ⇩\n",
      "4  ⇨  ⇨  ⇨  ⇨  ⇨  ⇩  ⇩  ⇩  ⇨  ⇩\n",
      "5  ⇨  ⇨  ⇨  ⇨  ⇨  ⇩  ⇩  ⇩  ⇩  ⇩\n",
      "6  ⇨  ⇨  ⇨  ⇨  ⇨  ⇨  ⇩  ⇩  ⇨  ⇩\n",
      "7  ⇩  ⇩  ⇨  ⇨  ⇨  ⇨  ⇨  ⇩  ⇩  ⇩\n",
      "8  ⇩  ⇨  ⇨  ⇨  ⇨  ⇨  ⇨  ⇨  ⇩  ⇦\n",
      "9  ⇨  ⇨  ⇨  ⇨  ⇨  ⇨  ⇨  ⇨  ⇧  ⇦\n"
     ]
    }
   ],
   "source": [
    "# plot the accuracy and penalty\n",
    "plt.figure(figsize=(10, 6))\n",
    "plt.plot(np.arange(0, 5.01, 0.01), all_acc)\n",
    "plt.xlabel('Penalty Factor')\n",
    "plt.ylabel('Accuracy')\n",
    "plt.title('Accuracy VS Penalty Factor')\n",
    "plt.show()\n",
    "\n",
    "print('Penalty factor with best accuracy: ', IRL_best_penalty)\n",
    "print('Corresponding accuracy: ', np.max(all_acc))\n",
    "plot_heat_map(cur_reward, 'Heat map of the ground truth reward')\n",
    "plot_heat_map(IRL_best_reward, 'Heat map of the extracted reward')\n",
    "plot_heat_map(IRL_optimal_state_values, 'Heat map of the optimal state values')\n",
    "print_optimal_policy_with_arrows(IRL_optimal_policy)"
   ]
  },
  {
   "cell_type": "markdown",
   "metadata": {
    "colab_type": "text",
    "id": "pVm37L_8aE33"
   },
   "source": [
    "#### Q18 & Q19 & Q20 & Q21 & Q23"
   ]
  },
  {
   "cell_type": "code",
   "execution_count": 19,
   "metadata": {
    "colab": {
     "autoexec": {
      "startup": false,
      "wait_interval": 0
     }
    },
    "colab_type": "code",
    "id": "W3VvAq58aE34"
   },
   "outputs": [],
   "source": [
    "%%capture\n",
    "\n",
    "cur_reward = reward_2\n",
    "cur_optimal_policy = optimal_policy_function_2\n",
    "\n",
    "transition_matrix = get_transition_matrix(cur_optimal_policy)\n",
    "I_minus_gamma_Pa_inverse = np.linalg.inv(np.identity(100) - discount_factor * transition_matrix)\n",
    "Rmax = np.max(np.abs(cur_reward))\n",
    "\n",
    "# Construct D matrix\n",
    "all_difference_dot_inverse = list()\n",
    "for state in range(100):\n",
    "    x, y = state_to_coordinate(state)\n",
    "    optimal_action = cur_optimal_policy[y, x]\n",
    "    for action in all_actions:\n",
    "        if (action != optimal_action):\n",
    "            difference = (-1) * (get_transition_matrix_row(state, optimal_action) - get_transition_matrix_row(state, action))\n",
    "            transition_matrix = get_transition_matrix((np.ones((10,10))*optimal_action).astype(int))\n",
    "            I_minus_gamma_Pa_inverse = np.linalg.inv(np.identity(100) - discount_factor * transition_matrix)\n",
    "            all_difference_dot_inverse.append(difference.dot(I_minus_gamma_Pa_inverse))\n",
    "\n",
    "block_1 = np.concatenate(all_difference_dot_inverse)\n",
    "\n",
    "part_1 = np.concatenate((block_1, np.repeat(np.identity(100), [3] * 100, axis=0), np.zeros((300, 100))), axis=1)\n",
    "part_2 = np.concatenate((block_1, np.zeros((300, 200))), axis=1)\n",
    "part_3 = np.concatenate((-np.identity(100), np.zeros((100, 100)), -np.identity(100)), axis=1)\n",
    "part_4 = np.concatenate((np.identity(100), np.zeros((100, 100)), -np.identity(100)), axis=1)\n",
    "part_5 = np.concatenate((-np.identity(100), np.zeros((100, 200))), axis=1)\n",
    "part_6 = np.concatenate((np.identity(100), np.zeros((100, 200))), axis=1)\n",
    "\n",
    "# D matrix\n",
    "D = np.concatenate((part_1, part_2, part_3, part_4, part_5, part_6))\n",
    "G = matrix(D)\n",
    "h = matrix(np.concatenate((np.zeros(800), Rmax * np.ones(200))))\n",
    "\n",
    "# All accuracies\n",
    "all_acc = list()\n",
    "IRL_best_penalty = 0\n",
    "IRL_best_reward = 0\n",
    "IRL_optimal_state_values = 0\n",
    "IRL_optimal_policy = 0\n",
    "\n",
    "# Solve LP with muptiple penalty factors\n",
    "for penalty_factor in np.arange(0, 5.01, 0.01):\n",
    "    c = matrix(-np.concatenate((np.zeros(100), np.ones(100), np.ones(100) * (-penalty_factor))))\n",
    "    sol = solvers.lp(c, G, h)\n",
    "    IRL_reward = np.array(sol['x'][0:100]).reshape(10, 10).T\n",
    "    IRL_reward = (IRL_reward - np.amin(IRL_reward)) / (np.amax(IRL_reward) - np.amin(IRL_reward)) *110\n",
    "\n",
    "    IRL_state_values = get_state_value_function(IRL_reward)\n",
    "    \n",
    "    IRL_policy = get_optimal_policy_function(IRL_state_values, IRL_reward)\n",
    "    accuracy = get_accuracy(IRL_policy, cur_optimal_policy)\n",
    "    # Store the best results\n",
    "    if (len(all_acc) == 0 or accuracy > max(all_acc)):\n",
    "        IRL_best_penalty = penalty_factor\n",
    "        IRL_best_reward = IRL_reward\n",
    "        IRL_optimal_state_values = IRL_state_values\n",
    "        IRL_optimal_policy = IRL_policy\n",
    "    all_acc.append(accuracy)"
   ]
  },
  {
   "cell_type": "code",
   "execution_count": 20,
   "metadata": {
    "colab": {
     "autoexec": {
      "startup": false,
      "wait_interval": 0
     }
    },
    "colab_type": "code",
    "id": "pbgykUocaE35",
    "outputId": "eb6709c8-d650-4f1a-edf0-be8b06774c2a"
   },
   "outputs": [
    {
     "data": {
      "image/png": "[encoded data removed]",
      "text/plain": [
       "<matplotlib.figure.Figure at 0x112d3fda0>"
      ]
     },
     "metadata": {},
     "output_type": "display_data"
    },
    {
     "name": "stdout",
     "output_type": "stream",
     "text": [
      "Penalty factor with best accuracy:  2.36\n",
      "Corresponding accuracy:  0.81\n"
     ]
    },
    {
     "data": {
      "image/png": "[encoded data removed]",
      "text/plain": [
       "<matplotlib.figure.Figure at 0x120921fd0>"
      ]
     },
     "metadata": {},
     "output_type": "display_data"
    },
    {
     "data": {
      "image/png": "[encoded data removed]",
      "text/plain": [
       "<matplotlib.figure.Figure at 0x111b77fd0>"
      ]
     },
     "metadata": {},
     "output_type": "display_data"
    },
    {
     "data": {
      "image/png": "[encoded data removed]",
      "text/plain": [
       "<matplotlib.figure.Figure at 0x111b77f60>"
      ]
     },
     "metadata": {},
     "output_type": "display_data"
    },
    {
     "name": "stdout",
     "output_type": "stream",
     "text": [
      "   0  1  2  3  4  5  6  7  8  9\n",
      "0  ⇩  ⇩  ⇩  ⇦  ⇦  ⇨  ⇨  ⇨  ⇨  ⇩\n",
      "1  ⇩  ⇩  ⇩  ⇦  ⇦  ⇩  ⇨  ⇨  ⇨  ⇩\n",
      "2  ⇩  ⇩  ⇩  ⇦  ⇦  ⇩  ⇨  ⇨  ⇨  ⇩\n",
      "3  ⇩  ⇩  ⇩  ⇦  ⇦  ⇩  ⇩  ⇨  ⇨  ⇩\n",
      "4  ⇩  ⇩  ⇩  ⇦  ⇩  ⇩  ⇩  ⇨  ⇨  ⇩\n",
      "5  ⇩  ⇩  ⇩  ⇦  ⇩  ⇩  ⇩  ⇩  ⇨  ⇩\n",
      "6  ⇩  ⇩  ⇩  ⇩  ⇩  ⇩  ⇦  ⇩  ⇨  ⇩\n",
      "7  ⇨  ⇨  ⇩  ⇩  ⇩  ⇩  ⇦  ⇩  ⇩  ⇩\n",
      "8  ⇨  ⇨  ⇨  ⇦  ⇦  ⇦  ⇨  ⇩  ⇩  ⇩\n",
      "9  ⇨  ⇨  ⇧  ⇧  ⇦  ⇦  ⇨  ⇨  ⇩  ⇦\n"
     ]
    }
   ],
   "source": [
    "# plot the accuracy and penalty\n",
    "plt.figure(figsize=(10, 6))\n",
    "plt.plot(np.arange(0, 5.01, 0.01), all_acc)\n",
    "plt.xlabel('Penalty Factor')\n",
    "plt.ylabel('Accuracy')\n",
    "plt.title('Accuracy VS Penalty Factor')\n",
    "plt.show()\n",
    "\n",
    "print('Penalty factor with best accuracy: ', IRL_best_penalty)\n",
    "print('Corresponding accuracy: ', np.max(all_acc))\n",
    "plot_heat_map(cur_reward, 'Heat map of the ground truth reward')\n",
    "plot_heat_map(IRL_best_reward, 'Heat map of the extracted reward')\n",
    "plot_heat_map(IRL_optimal_state_values, 'Heat map of the optimal state values')\n",
    "print_optimal_policy_with_arrows(IRL_optimal_policy)"
   ]
  },
  {
   "cell_type": "markdown",
   "metadata": {
    "colab_type": "text",
    "id": "Z9gI2YgwaE39"
   },
   "source": [
    "#### Q25"
   ]
  },
  {
   "cell_type": "code",
   "execution_count": 21,
   "metadata": {},
   "outputs": [],
   "source": [
    "def print_arrows_discrepancy(optimal_policy_function,IRL_optimal_policy):\n",
    "    \n",
    "    optimal_policy_symbols = np.chararray((10, 10), unicode=True)\n",
    "    arrow_symbols = ['⇧','⇩','⇦','⇨']\n",
    "#     arrow_symbols = ['↑ ','↓ ','←','→ ']\n",
    "#     arrow_symbols = ['\\21E1','\\u21E3','\\u21E0','\\u21E2']\n",
    "    for i in range(4):\n",
    "        optimal_policy_symbols[IRL_optimal_policy == i] = arrow_symbols[i]\n",
    "    # mark difference\n",
    "    optimal_policy_symbols[IRL_optimal_policy != optimal_policy_function] = '⥁ '\n",
    "    print(pd.DataFrame(optimal_policy_symbols))"
   ]
  },
  {
   "cell_type": "code",
   "execution_count": 22,
   "metadata": {},
   "outputs": [
    {
     "name": "stdout",
     "output_type": "stream",
     "text": [
      "   0  1  2  3  4  5  6  7  8  9\n",
      "0  ⇩  ⇩  ⇩  ⇦  ⇦  ⇨  ⇨  ⇨  ⇨  ⇩\n",
      "1  ⇩  ⇩  ⇩  ⇦  ⇦  ⥁  ⇨  ⇨  ⇨  ⇩\n",
      "2  ⇩  ⇩  ⇩  ⇦  ⇦  ⇩  ⇨  ⇨  ⇨  ⇩\n",
      "3  ⇩  ⇩  ⇩  ⇦  ⇦  ⇩  ⇩  ⥁  ⇨  ⇩\n",
      "4  ⇩  ⇩  ⇩  ⇦  ⥁  ⇩  ⇩  ⥁  ⇨  ⇩\n",
      "5  ⇩  ⇩  ⇩  ⇦  ⥁  ⇩  ⇩  ⥁  ⇨  ⇩\n",
      "6  ⇩  ⇩  ⇩  ⇩  ⇩  ⇩  ⇦  ⥁  ⇨  ⇩\n",
      "7  ⥁  ⥁  ⇩  ⇩  ⇩  ⇩  ⇦  ⇩  ⇩  ⇩\n",
      "8  ⇨  ⇨  ⇨  ⥁  ⥁  ⥁  ⥁  ⇩  ⇩  ⇩\n",
      "9  ⇨  ⇨  ⥁  ⥁  ⥁  ⥁  ⇨  ⇨  ⥁  ⥁\n",
      "   0  1  2  3  4  5  6  7  8  9\n",
      "0  ⇩  ⇩  ⇩  ⇦  ⇦  ⇨  ⇨  ⇨  ⇨  ⇩\n",
      "1  ⇩  ⇩  ⇩  ⇦  ⇦  ⇧  ⇨  ⇨  ⇨  ⇩\n",
      "2  ⇩  ⇩  ⇩  ⇦  ⇦  ⇩  ⇨  ⇨  ⇨  ⇩\n",
      "3  ⇩  ⇩  ⇩  ⇦  ⇦  ⇩  ⇩  ⇧  ⇨  ⇩\n",
      "4  ⇩  ⇩  ⇩  ⇦  ⇦  ⇩  ⇩  ⇩  ⇨  ⇩\n",
      "5  ⇩  ⇩  ⇩  ⇦  ⇦  ⇩  ⇩  ⇦  ⇨  ⇩\n",
      "6  ⇩  ⇩  ⇩  ⇩  ⇩  ⇩  ⇦  ⇦  ⇨  ⇩\n",
      "7  ⇩  ⇩  ⇩  ⇩  ⇩  ⇩  ⇦  ⇩  ⇩  ⇩\n",
      "8  ⇨  ⇨  ⇨  ⇩  ⇩  ⇩  ⇩  ⇩  ⇩  ⇩\n",
      "9  ⇨  ⇨  ⇨  ⇨  ⇨  ⇨  ⇨  ⇨  ⇨  ⇩\n",
      "   0  1  2  3  4  5  6  7  8  9\n",
      "0  ⇩  ⇩  ⇩  ⇦  ⇦  ⇨  ⇨  ⇨  ⇨  ⇩\n",
      "1  ⇩  ⇩  ⇩  ⇦  ⇦  ⇩  ⇨  ⇨  ⇨  ⇩\n",
      "2  ⇩  ⇩  ⇩  ⇦  ⇦  ⇩  ⇨  ⇨  ⇨  ⇩\n",
      "3  ⇩  ⇩  ⇩  ⇦  ⇦  ⇩  ⇩  ⇨  ⇨  ⇩\n",
      "4  ⇩  ⇩  ⇩  ⇦  ⇩  ⇩  ⇩  ⇨  ⇨  ⇩\n",
      "5  ⇩  ⇩  ⇩  ⇦  ⇩  ⇩  ⇩  ⇩  ⇨  ⇩\n",
      "6  ⇩  ⇩  ⇩  ⇩  ⇩  ⇩  ⇦  ⇩  ⇨  ⇩\n",
      "7  ⇨  ⇨  ⇩  ⇩  ⇩  ⇩  ⇦  ⇩  ⇩  ⇩\n",
      "8  ⇨  ⇨  ⇨  ⇦  ⇦  ⇦  ⇨  ⇩  ⇩  ⇩\n",
      "9  ⇨  ⇨  ⇧  ⇧  ⇦  ⇦  ⇨  ⇨  ⇩  ⇦\n"
     ]
    }
   ],
   "source": [
    "print_arrows_discrepancy(optimal_policy_function_2,IRL_optimal_policy)\n",
    "print_optimal_policy_with_arrows(optimal_policy_function_2)\n",
    "print_optimal_policy_with_arrows(IRL_optimal_policy)"
   ]
  },
  {
   "cell_type": "code",
   "execution_count": null,
   "metadata": {},
   "outputs": [],
   "source": []
  }
 ],
 "metadata": {
  "colab": {
   "default_view": {},
   "name": "Project3_to_Q24.ipynb",
   "provenance": [],
   "version": "0.3.2",
   "views": {}
  },
  "kernelspec": {
   "display_name": "Python 3",
   "language": "python",
   "name": "python3"
  },
  "language_info": {
   "codemirror_mode": {
    "name": "ipython",
    "version": 3
   },
   "file_extension": ".py",
   "mimetype": "text/x-python",
   "name": "python",
   "nbconvert_exporter": "python",
   "pygments_lexer": "ipython3",
   "version": "3.6.4"
  }
 },
 "nbformat": 4,
 "nbformat_minor": 1
}
