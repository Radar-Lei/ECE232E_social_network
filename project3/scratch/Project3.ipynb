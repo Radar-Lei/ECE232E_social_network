{
 "cells": [
  {
   "cell_type": "markdown",
   "metadata": {},
   "source": [
    "# Part 2"
   ]
  },
  {
   "cell_type": "markdown",
   "metadata": {},
   "source": [
    "### Question 1"
   ]
  },
  {
   "cell_type": "code",
   "execution_count": 12,
   "metadata": {},
   "outputs": [],
   "source": [
    "import numpy as np\n",
    "import matplotlib.pyplot as plt\n",
    "from pandas import *"
   ]
  },
  {
   "cell_type": "code",
   "execution_count": 13,
   "metadata": {},
   "outputs": [
    {
     "data": {
      "text/plain": [
       "Text(0.5,1,'reward_function_2')"
      ]
     },
     "execution_count": 13,
     "metadata": {},
     "output_type": "execute_result"
    },
    {
     "data": {
      "image/png": "[encoded data removed]",
      "text/plain": [
       "<matplotlib.figure.Figure at 0x1145a0ac8>"
      ]
     },
     "metadata": {},
     "output_type": "display_data"
    }
   ],
   "source": [
    "reward_function_1 = np.zeros((10,10))\n",
    "reward_function_1[-1,-1] = 1\n",
    "\n",
    "\n",
    "reward_function_2 = reward_function_1.copy()\n",
    "locs = [(1,4),(2,4),(3,4),(4,4),(5,4),\n",
    "           (6,4),(1,5),(1,6),(2,6),(3,6),\n",
    "           (3,7),(3,8),(4,8),(5,8),(6,8),\n",
    "           (7,8),(7,6),(7,7),(8,6)]\n",
    "\n",
    "reward_function_2[-1,-1] = 10\n",
    "for loc in locs:\n",
    "    reward_function_2[loc] = -100\n",
    "    \n",
    "fig, ax = plt.subplots(1,2,figsize=(12,6))\n",
    "ax[0].set_ylim(bottom=10, top=0)\n",
    "ax[0].pcolor(reward_function_1)\n",
    "ax[0].set_title('reward_function_1')\n",
    "ax[1].set_ylim(bottom=10, top=0)\n",
    "ax[1].pcolor(reward_function_2)\n",
    "ax[1].set_title('reward_function_2')"
   ]
  },
  {
   "cell_type": "markdown",
   "metadata": {},
   "source": [
    "### Question 2/3/4"
   ]
  },
  {
   "cell_type": "code",
   "execution_count": 14,
   "metadata": {},
   "outputs": [],
   "source": [
    "def update_value(values,R, discount,s,w):\n",
    "    actions = [-10,+10,-1,+1,0]# action = [up,down,left,right,self]\n",
    "    p_temp = np.zeros(5)# action = [up,down,left,right，self]\n",
    "\n",
    "    # preset the random\n",
    "    p_temp[2] = 0 if s%10 == 0 else w/4 # left\n",
    "    p_temp[3] = 0 if (s+1)%10 == 0 else w/4 # right\n",
    "    p_temp[0] = 0 if s-10 <= 0 else w/4 #up\n",
    "    p_temp[1] = 0 if s+10 >= 100 else w/4 #bot\n",
    "    p_temp[-1] = w-sum(p_temp[0:4])\n",
    "\n",
    "    # value of state in different direction\n",
    "    v_temp = np.zeros(4) #[up,down,left,right，self]\n",
    "    for i,a in enumerate(actions[0:4]):\n",
    "        p = p_temp.copy()\n",
    "        if p_temp[i] != 0:\n",
    "            p[i] += 1-w # move in one direction\n",
    "        else:\n",
    "            p[-1] += 1-w # return to self\n",
    "        \n",
    "        # sum of all possible states\n",
    "        for j,a in enumerate(actions):\n",
    "            if p[j] != 0 :#and s+a in range(100):\n",
    "                v_temp[i] += p[j]*(R[0,s+a] + discount*values[0,s+a]) \n",
    "                \n",
    "    return np.max(v_temp) \n",
    "\n",
    "def update_policy(values,R, discount,s,w):\n",
    "    actions = [-10,+10,-1,+1,0]# action = [up,down,left,right,self]\n",
    "    p_temp = np.zeros(5)# action = [up,down,left,right，self]\n",
    "\n",
    "    # preset the random\n",
    "    p_temp[2] = 0 if s%10 == 0 else w/4 # left\n",
    "    p_temp[3] = 0 if (s+1)%10 == 0 else w/4 # right\n",
    "    p_temp[0] = 0 if s-10 <= 0 else w/4 #up\n",
    "    p_temp[1] = 0 if s+10 >= 100 else w/4 #bot\n",
    "    p_temp[-1] = w-sum(p_temp[0:4])\n",
    "\n",
    "    # value of state in different direction\n",
    "    v_temp = np.zeros(4) #[up,down,left,right，self]\n",
    "    for i,a in enumerate(actions[0:4]):\n",
    "        p = p_temp.copy()\n",
    "        if p_temp[i] != 0:\n",
    "            p[i] += 1-w # move in one direction\n",
    "        else:\n",
    "            p[-1] += 1-w # return to self\n",
    "        \n",
    "        # sum of all possible states\n",
    "        for j,a in enumerate(actions):\n",
    "            if p[j] != 0 :#and s+a in range(100):\n",
    "                v_temp[i] += p[j]*(R[0,s+a] + discount*values[0,s+a]) \n",
    "   \n",
    "    policy = ['↑','↓','←','→']\n",
    "    return policy[np.argmax(v_temp)]\n",
    "       "
   ]
  },
  {
   "cell_type": "code",
   "execution_count": 15,
   "metadata": {},
   "outputs": [
    {
     "name": "stdout",
     "output_type": "stream",
     "text": [
      "     0    1    2    3    4    5    6    7    8    9\n",
      "0  0.0  0.0  0.0  0.0  0.0  0.0  0.0  0.0  0.0  0.0\n",
      "1  0.0  0.0  0.0  0.0  0.0  0.0  0.0  0.0  0.0  0.0\n",
      "2  0.0  0.0  0.0  0.0  0.0  0.0  0.0  0.0  0.0  0.0\n",
      "3  0.0  0.0  0.0  0.0  0.0  0.0  0.0  0.0  0.0  0.0\n",
      "4  0.0  0.0  0.0  0.0  0.0  0.0  0.0  0.0  0.0  0.0\n",
      "5  0.0  0.0  0.0  0.0  0.0  0.0  0.0  0.0  0.0  0.0\n",
      "6  0.0  0.0  0.0  0.0  0.0  0.0  0.0  0.0  0.0  0.0\n",
      "7  0.0  0.0  0.0  0.0  0.0  0.0  0.0  0.0  0.0  0.0\n",
      "8  0.0  0.0  0.0  0.0  0.0  0.0  0.0  0.0  0.0  0.0\n",
      "9  0.0  0.0  0.0  0.0  0.0  0.0  0.0  0.0  0.0  1.0\n"
     ]
    }
   ],
   "source": [
    "print(DataFrame(reward_function_1))"
   ]
  },
  {
   "cell_type": "code",
   "execution_count": 16,
   "metadata": {
    "scrolled": true
   },
   "outputs": [],
   "source": [
    "# def state_value(graph):\n",
    "e = 0.001\n",
    "w = 0.1\n",
    "discount = 0.8\n",
    "\n",
    "reward_function = reward_function_1.copy()\n",
    "# initialization all value = 0\n",
    "# reshape to 1D array \n",
    "values = np.zeros(reward_function.shape).reshape(1,-1)\n",
    "R = reward_function.reshape(1,-1)\n",
    "\n",
    "delta = float('inf')\n",
    "while delta > e:\n",
    "    delta = 0\n",
    "    for s in range(reward_function_1.size): \n",
    "        v = values[0,s]\n",
    "        values[0,s] = update_value(values,R, discount,s,w)\n",
    "        delta = max(delta,abs(v-values[0,s]))\n"
   ]
  },
  {
   "cell_type": "code",
   "execution_count": 17,
   "metadata": {},
   "outputs": [
    {
     "name": "stdout",
     "output_type": "stream",
     "text": [
      "     0    1    2    3    4    5    6    7    8    9\n",
      "0  0.0  0.0  0.0  0.0  0.0  0.0  0.0  0.0  0.0  0.0\n",
      "1  0.0  0.0  0.0  0.0  0.0  0.0  0.0  0.0  0.0  0.0\n",
      "2  0.0  0.0  0.0  0.0  0.0  0.0  0.0  0.0  0.0  0.0\n",
      "3  0.0  0.0  0.0  0.0  0.0  0.0  0.0  0.0  0.0  0.0\n",
      "4  0.0  0.0  0.0  0.0  0.0  0.0  0.0  0.0  0.0  0.0\n",
      "5  0.0  0.0  0.0  0.0  0.0  0.0  0.0  0.0  0.0  0.0\n",
      "6  0.0  0.0  0.0  0.0  0.0  0.0  0.0  0.0  0.0  0.0\n",
      "7  0.0  0.0  0.0  0.0  0.0  0.0  0.0  0.0  0.0  0.0\n",
      "8  0.0  0.0  0.0  0.0  0.0  0.0  0.0  0.0  0.0  0.0\n",
      "9  0.0  0.0  0.0  0.0  0.0  0.0  0.0  0.0  0.0  1.0\n"
     ]
    }
   ],
   "source": [
    "print(DataFrame(reward_function))"
   ]
  },
  {
   "cell_type": "code",
   "execution_count": 18,
   "metadata": {},
   "outputs": [
    {
     "data": {
      "text/plain": [
       "Text(0.5,1,'state_value for reward_function_1')"
      ]
     },
     "execution_count": 18,
     "metadata": {},
     "output_type": "execute_result"
    },
    {
     "data": {
      "image/png": "[encoded data removed]",
      "text/plain": [
       "<matplotlib.figure.Figure at 0x114719470>"
      ]
     },
     "metadata": {},
     "output_type": "display_data"
    }
   ],
   "source": [
    "fig, ax = plt.subplots(1,2,figsize=(12,6))\n",
    "ax[0].set_ylim(bottom=10, top=0)\n",
    "ax[0].pcolor(reward_function_1)\n",
    "ax[0].set_title('reward_function_1')\n",
    "ax[1].set_ylim(bottom=10, top=0)\n",
    "ax[1].pcolor(values.reshape((10,10)))\n",
    "ax[1].set_title('state_value for reward_function_1')"
   ]
  },
  {
   "cell_type": "markdown",
   "metadata": {},
   "source": [
    "### Question 5"
   ]
  },
  {
   "cell_type": "code",
   "execution_count": 19,
   "metadata": {},
   "outputs": [
    {
     "name": "stdout",
     "output_type": "stream",
     "text": [
      "   0  1  2  3  4  5  6  7  8  9\n",
      "0  →  →  →  →  →  →  →  →  →  ↓\n",
      "1  →  →  →  →  →  →  →  →  →  ↓\n",
      "2  →  →  →  →  →  →  →  →  →  ↓\n",
      "3  →  →  →  →  →  →  →  →  →  ↓\n",
      "4  →  →  →  →  →  →  →  →  →  ↓\n",
      "5  →  →  →  →  →  →  →  →  →  ↓\n",
      "6  →  →  →  →  →  →  →  →  →  ↓\n",
      "7  →  →  →  →  →  →  →  →  →  ↓\n",
      "8  →  →  →  →  →  →  →  →  →  ↓\n",
      "9  →  →  →  →  →  →  →  →  →  ↓\n"
     ]
    }
   ],
   "source": [
    "policy = [[0]*10]*10\n",
    "for i in range(10):\n",
    "    for j in range(10):\n",
    "        policy[i][j] = update_policy(values,R, discount,i*10+j,w)\n",
    "print(DataFrame(policy))"
   ]
  },
  {
   "cell_type": "markdown",
   "metadata": {},
   "source": [
    "## Question 6/7/8/9"
   ]
  },
  {
   "cell_type": "code",
   "execution_count": 20,
   "metadata": {},
   "outputs": [
    {
     "name": "stdout",
     "output_type": "stream",
     "text": [
      "     0    1    2    3      4      5      6      7      8     9\n",
      "0  0.0  0.0  0.0  0.0    0.0    0.0    0.0    0.0    0.0   0.0\n",
      "1  0.0  0.0  0.0  0.0 -100.0 -100.0 -100.0    0.0    0.0   0.0\n",
      "2  0.0  0.0  0.0  0.0 -100.0    0.0 -100.0    0.0    0.0   0.0\n",
      "3  0.0  0.0  0.0  0.0 -100.0    0.0 -100.0 -100.0 -100.0   0.0\n",
      "4  0.0  0.0  0.0  0.0 -100.0    0.0    0.0    0.0 -100.0   0.0\n",
      "5  0.0  0.0  0.0  0.0 -100.0    0.0    0.0    0.0 -100.0   0.0\n",
      "6  0.0  0.0  0.0  0.0 -100.0    0.0    0.0    0.0 -100.0   0.0\n",
      "7  0.0  0.0  0.0  0.0    0.0    0.0 -100.0 -100.0 -100.0   0.0\n",
      "8  0.0  0.0  0.0  0.0    0.0    0.0 -100.0    0.0    0.0   0.0\n",
      "9  0.0  0.0  0.0  0.0    0.0    0.0    0.0    0.0    0.0  10.0\n",
      "   0  1  2  3  4  5  6  7  8  9\n",
      "0  →  →  →  →  →  →  →  →  →  ↓\n",
      "1  →  →  →  →  →  →  →  →  →  ↓\n",
      "2  →  →  →  →  →  →  →  →  →  ↓\n",
      "3  →  →  →  →  →  →  →  →  →  ↓\n",
      "4  →  →  →  →  →  →  →  →  →  ↓\n",
      "5  →  →  →  →  →  →  →  →  →  ↓\n",
      "6  →  →  →  →  →  →  →  →  →  ↓\n",
      "7  →  →  →  →  →  →  →  →  →  ↓\n",
      "8  →  →  →  →  →  →  →  →  →  ↓\n",
      "9  →  →  →  →  →  →  →  →  →  ↓\n"
     ]
    },
    {
     "data": {
      "image/png": "[encoded data removed]",
      "text/plain": [
       "<matplotlib.figure.Figure at 0x1147cc4a8>"
      ]
     },
     "metadata": {},
     "output_type": "display_data"
    }
   ],
   "source": [
    "# def state_value(graph):\n",
    "e = 0.01\n",
    "w = 0.1\n",
    "discount = 0.8\n",
    "\n",
    "reward_function = reward_function_2.copy()\n",
    "# initialization all value = 0\n",
    "# reshape to 1D array \n",
    "values = np.zeros(reward_function.shape).reshape(1,-1)\n",
    "R = reward_function.reshape(1,-1)\n",
    "\n",
    "delta = float('inf')\n",
    "while delta > e:\n",
    "    delta = 0\n",
    "    for s in range(reward_function_1.size): \n",
    "        v = values[0,s]\n",
    "        values[0,s] = update_value(values,R, discount,s,w)\n",
    "        delta = max(delta,abs(v-values[0,s]))\n",
    "\n",
    "print(DataFrame(reward_function))\n",
    "        \n",
    "fig, ax = plt.subplots(1,2,figsize=(12,6))\n",
    "ax[0].set_ylim(bottom=10, top=0)\n",
    "ax[0].pcolor(reward_function_2)\n",
    "ax[0].set_title('reward_function_2')\n",
    "ax[1].set_ylim(bottom=10, top=0)\n",
    "ax[1].pcolor(values.reshape((10,10)))\n",
    "ax[1].set_title('state_value for reward_function_2')\n",
    "\n",
    "policy = [[0]*10]*10\n",
    "for i in range(10):\n",
    "    for j in range(10):\n",
    "        policy[i][j] = update_policy(values,R, discount,i*10+j,w)\n",
    "print(DataFrame(policy))"
   ]
  },
  {
   "cell_type": "code",
   "execution_count": null,
   "metadata": {},
   "outputs": [],
   "source": []
  }
 ],
 "metadata": {
  "kernelspec": {
   "display_name": "Python 3",
   "language": "python",
   "name": "python3"
  },
  "language_info": {
   "codemirror_mode": {
    "name": "ipython",
    "version": 3
   },
   "file_extension": ".py",
   "mimetype": "text/x-python",
   "name": "python",
   "nbconvert_exporter": "python",
   "pygments_lexer": "ipython3",
   "version": "3.6.4"
  }
 },
 "nbformat": 4,
 "nbformat_minor": 2
}
