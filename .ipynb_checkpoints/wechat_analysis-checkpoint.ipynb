{
 "cells": [
  {
   "cell_type": "code",
   "execution_count": 12,
   "metadata": {},
   "outputs": [],
   "source": [
    "import numpy as np\n",
    "import matplotlib.pyplot as plt"
   ]
  },
  {
   "cell_type": "code",
   "execution_count": 1,
   "metadata": {},
   "outputs": [
    {
     "name": "stdout",
     "output_type": "stream",
     "text": [
      "█\r"
     ]
    },
    {
     "name": "stderr",
     "output_type": "stream",
     "text": [
      "Getting uuid of QR code.\n",
      "Downloading QR code.\n",
      "Please scan the QR code to log in.\n",
      "Please press confirm on your phone.\n",
      "Loading the contact, this may take a little while.\n",
      "Login successfully as 李双宇\n"
     ]
    }
   ],
   "source": [
    "import itchat\n",
    "itchat.login()"
   ]
  },
  {
   "cell_type": "code",
   "execution_count": 2,
   "metadata": {},
   "outputs": [],
   "source": [
    "friends = itchat.get_friends(update=True)[0:]"
   ]
  },
  {
   "cell_type": "code",
   "execution_count": 17,
   "metadata": {},
   "outputs": [],
   "source": [
    "def parse_friends(friends):\n",
    "    d = dict()\n",
    "    for i in friends[1:]:\n",
    "        sex = i['Sex']\n",
    "        if sex == 1:\n",
    "            d['male'] = d.get('male',0) + 1\n",
    "        elif sex == 2:\n",
    "            d['female'] = d.get('female',0) + 1\n",
    "        else:\n",
    "            print (i['RemarkName'])\n",
    "            d['other'] = d.get('other',0) + 1\n",
    "    for key in d.keys():\n",
    "        plt.bar(key,d[key])\n",
    "    plt.legend()\n",
    "    plt.title('gender ratio for shuangyu li')\n",
    "            \n",
    "        "
   ]
  },
  {
   "cell_type": "code",
   "execution_count": 18,
   "metadata": {},
   "outputs": [
    {
     "name": "stderr",
     "output_type": "stream",
     "text": [
      "No handles with labels found to put in legend.\n"
     ]
    },
    {
     "data": {
      "image/png": "[encoded data removed]",
      "text/plain": [
       "<matplotlib.figure.Figure at 0x10eac9898>"
      ]
     },
     "metadata": {},
     "output_type": "display_data"
    }
   ],
   "source": [
    "parse_friends(friends)"
   ]
  },
  {
   "cell_type": "code",
   "execution_count": 25,
   "metadata": {},
   "outputs": [
    {
     "data": {
      "text/plain": [
       "<User: {'MemberList': <ContactList: []>, 'Uin': 0, 'UserName': '@fdd9afcf3df47e09e443b1785e05502a1f19a4a6f5a160d8b8fa2b39a305b050', 'NickName': '二彤彤彤彤😉', 'HeadImgUrl': '/cgi-bin/mmwebwx-bin/webwxgeticon?seq=687973527&username=@fdd9afcf3df47e09e443b1785e05502a1f19a4a6f5a160d8b8fa2b39a305b050&skey=@crypt_7566eb4d_0709e9d9ba4f1cfa525a8fab381b0fea', 'ContactFlag': 2051, 'MemberCount': 0, 'RemarkName': '卢禹彤', 'HideInputBarFlag': 0, 'Sex': 2, 'Signature': '起床真的好难啊……', 'VerifyFlag': 0, 'OwnerUin': 0, 'PYInitial': 'ETTTTSPANCLASSEMOJIEMOJI1F609SPAN', 'PYQuanPin': 'ertongtongtongtongspanclassemojiemoji1f609span', 'RemarkPYInitial': 'LYT', 'RemarkPYQuanPin': 'luyutong', 'StarFriend': 0, 'AppAccountFlag': 0, 'Statues': 0, 'AttrStatus': 4293533, 'Province': 'California', 'City': 'Los Angeles', 'Alias': '', 'SnsFlag': 177, 'UniFriend': 0, 'DisplayName': '', 'ChatRoomId': 0, 'KeyWord': '', 'EncryChatRoomId': '', 'IsOwner': 0}>"
      ]
     },
     "execution_count": 25,
     "metadata": {},
     "output_type": "execute_result"
    }
   ],
   "source": [
    "friends[1]"
   ]
  },
  {
   "cell_type": "code",
   "execution_count": null,
   "metadata": {},
   "outputs": [],
   "source": []
  }
 ],
 "metadata": {
  "kernelspec": {
   "display_name": "Python 3",
   "language": "python",
   "name": "python3"
  },
  "language_info": {
   "codemirror_mode": {
    "name": "ipython",
    "version": 3
   },
   "file_extension": ".py",
   "mimetype": "text/x-python",
   "name": "python",
   "nbconvert_exporter": "python",
   "pygments_lexer": "ipython3",
   "version": "3.6.4"
  }
 },
 "nbformat": 4,
 "nbformat_minor": 2
}
